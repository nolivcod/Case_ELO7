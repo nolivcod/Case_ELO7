{
  "nbformat": 4,
  "nbformat_minor": 0,
  "metadata": {
    "colab": {
      "name": "Elo7-Data.ipynb",
      "provenance": [],
      "collapsed_sections": []
    },
    "kernelspec": {
      "name": "python3",
      "display_name": "Python 3"
    },
    "language_info": {
      "name": "python"
    }
  },
  "cells": [
    {
      "cell_type": "markdown",
      "source": [
        "# Case Engenharia de Dados Elo7\n",
        "\n",
        "\n",
        "|Elo7\n",
        "|:-----------------------------------------------|\n",
        "|**Objetivo:** Processar e armazenar os dados de atrasos em vôos de diversos aeroportos de forma que possamos criar análises utilizando alguma ferramente de BI.\n",
        "|**Desenvolvedora :** Nathalia oliveira\n",
        "|**Data:** Junho/2022|\n",
        "|**Tempo médio de execução nos testes:** 1 min\n",
        "\n",
        "|SUMÁRIO|\n",
        "|:------------------------------------------------|\n",
        "|[**1. Objetivo**](#um)\n",
        "|[**2. Dataset**](#dois)\n",
        "|[**3. Configurações Gerais**](#tres)\n",
        "|[**4. Download e tratamento do Dataset**](#quatro)\n",
        "|[**5. Questões**](#cinco)\n"
      ],
      "metadata": {
        "id": "Lc7VTdutuEfr"
      }
    },
    {
      "cell_type": "markdown",
      "source": [
        "<div id='um' />\n",
        "\n",
        "# Objetivo\n",
        "\n",
        "Processar e armazenar os dados de **atrasos** em vôos de diversos aeroportos de forma que possamos criar análises utilizando alguma ferramente de BI. \n",
        "Nesse projeto, desenvolvido na plataforma google colab, a idéia é utilizar Spark para processamento e estruturação dos dados para disponibilização das bases que respondam às questóes abaixo:\n",
        "\n",
        "##### Base utilizada:  <a href= \"https://corgis-edu.github.io/corgis/datasets/json/airlines/airlines.json\">Airlines</a>\n",
        "\n",
        "Perguntas a serem respondidas:\n",
        "\n",
        "*   Qual a curva da quantidade de atrasos causados pela segurança dos aeroportos (Gráfico de linhas, por exemplo)\n",
        "*   Qual aeroporto teve a pior média de tempo de atrasos no último ano (do dataset)?\n",
        "*  Dos motivos que causam atrasos, qual é o que mais causou tempo de atraso?\n",
        "*  Comparando ano contra ano, 2015 foi melhor ou pior que 2014 em termos de número de atrasos?\n",
        "\n",
        "\n",
        "\n",
        "\n",
        "\n",
        "\n",
        "\n",
        "\n",
        "\n",
        "\n",
        "\n",
        "\n",
        "\n",
        "\n",
        "\n"
      ],
      "metadata": {
        "id": "fRMAawVVwETc"
      }
    },
    {
      "cell_type": "markdown",
      "source": [
        "<div id='tres' />\n",
        "\n",
        "# Dataset\n",
        "\n",
        "Pesquisando na <a href= \"https://corgis-edu.github.io/corgis/python/airlines/\">página</a> de disponibilização da base, não foi possível acessar um dicionário de dados. Porém, é esclarescido que a base consiste em uma agregação de dados dos principais aeroportos do país(EUA), com uma visão mensal. Os dados são referentes ao período de 2003(conforme informado no endereço, até janeiro de 2016(conforme verificado diretamente na base através desse script)"
      ],
      "metadata": {
        "id": "xQRTtVc0vLGs"
      }
    },
    {
      "cell_type": "markdown",
      "source": [
        "<div id='tres' />\n",
        "\n",
        "# Configurações gerais"
      ],
      "metadata": {
        "id": "JFGUrjJTSBwU"
      }
    },
    {
      "cell_type": "code",
      "source": [
        "# instalando as dependências necessárias\n",
        "!apt-get install openjdk-8-jdk-headless -qq > /dev/null\n",
        "!wget -q https://archive.apache.org/dist/spark/spark-2.4.4/spark-2.4.4-bin-hadoop2.7.tgz\n",
        "!tar xf spark-2.4.4-bin-hadoop2.7.tgz\n",
        "!pip install -q findspark\n",
        "!pip install -q typing"
      ],
      "metadata": {
        "colab": {
          "base_uri": "https://localhost:8080/"
        },
        "id": "jVKt_8GLuIkW",
        "outputId": "a3ef9441-6889-46b1-a96d-cf599263bf94"
      },
      "execution_count": null,
      "outputs": [
        {
          "output_type": "stream",
          "name": "stdout",
          "text": [
            "\u001b[?25l\r\u001b[K     |████▏                           | 10 kB 24.1 MB/s eta 0:00:01\r\u001b[K     |████████▍                       | 20 kB 30.0 MB/s eta 0:00:01\r\u001b[K     |████████████▌                   | 30 kB 23.6 MB/s eta 0:00:01\r\u001b[K     |████████████████▊               | 40 kB 9.0 MB/s eta 0:00:01\r\u001b[K     |████████████████████▉           | 51 kB 8.7 MB/s eta 0:00:01\r\u001b[K     |█████████████████████████       | 61 kB 10.1 MB/s eta 0:00:01\r\u001b[K     |█████████████████████████████▏  | 71 kB 9.2 MB/s eta 0:00:01\r\u001b[K     |████████████████████████████████| 78 kB 3.9 MB/s \n",
            "\u001b[?25h  Building wheel for typing (setup.py) ... \u001b[?25l\u001b[?25hdone\n"
          ]
        }
      ]
    },
    {
      "cell_type": "code",
      "source": [
        "# importando bibliotecas\n",
        "\n",
        "import os\n",
        "# configurando as variáveis de ambiente\n",
        "os.environ[\"JAVA_HOME\"] = \"/usr/lib/jvm/java-8-openjdk-amd64\"\n",
        "os.environ[\"SPARK_HOME\"] = \"/content/spark-2.4.4-bin-hadoop2.7\"\n",
        "\n",
        "# tornar o pyspark \"importável\"\n",
        "import findspark\n",
        "findspark.init('spark-2.4.4-bin-hadoop2.7')\n",
        "\n",
        "import pyspark\n",
        "import json\n",
        "\n",
        "from typing import Dict, Tuple\n",
        "from pyspark.sql.functions import col, lit\n",
        "from pyspark.sql.types import StructType\n"
      ],
      "metadata": {
        "id": "76GfQMuvRNMf"
      },
      "execution_count": null,
      "outputs": []
    },
    {
      "cell_type": "code",
      "source": [
        "# iniciando uma sessão local\n",
        "\n",
        "from pyspark.sql import SparkSession\n",
        "sc = SparkSession.builder.master('local[*]').getOrCreate()"
      ],
      "metadata": {
        "id": "14pvdT4POx12"
      },
      "execution_count": 65,
      "outputs": []
    },
    {
      "cell_type": "markdown",
      "source": [
        "<div id='tres' />\n",
        "\n",
        "# Download e tratamento do Dataset"
      ],
      "metadata": {
        "id": "5SAYhSlCS5tt"
      }
    },
    {
      "cell_type": "code",
      "source": [
        "# download do http para arquivo local\n",
        "!wget --quiet --show-progress https://corgis-edu.github.io/corgis/datasets/json/airlines/airlines.json"
      ],
      "metadata": {
        "colab": {
          "base_uri": "https://localhost:8080/"
        },
        "id": "PCPHKfzRS42I",
        "outputId": "fd331ccd-6056-4130-9b68-eb573084b5b7"
      },
      "execution_count": 116,
      "outputs": [
        {
          "output_type": "stream",
          "name": "stdout",
          "text": [
            "\rairlines.json.1       0%[                    ]       0  --.-KB/s               \rairlines.json.1     100%[===================>]   4.73M  --.-KB/s    in 0.05s   \n"
          ]
        }
      ]
    },
    {
      "cell_type": "code",
      "source": [
        "# Cria Dataframe a partir do Json \n",
        "df_flights = sc.read.option(\"multiline\",True).json(\"./airlines.json\")"
      ],
      "metadata": {
        "id": "yJIrNFxwRiBm"
      },
      "execution_count": 117,
      "outputs": []
    },
    {
      "cell_type": "code",
      "source": [
        "# verificando estrutura\n",
        "df_flights.printSchema()"
      ],
      "metadata": {
        "colab": {
          "base_uri": "https://localhost:8080/"
        },
        "id": "z-faYQcXTw1l",
        "outputId": "5a40d147-3c7f-4d8b-b5a7-2c9c1abe284d"
      },
      "execution_count": 118,
      "outputs": [
        {
          "output_type": "stream",
          "name": "stdout",
          "text": [
            "root\n",
            " |-- Airport: struct (nullable = true)\n",
            " |    |-- Code: string (nullable = true)\n",
            " |    |-- Name: string (nullable = true)\n",
            " |-- Statistics: struct (nullable = true)\n",
            " |    |-- # of Delays: struct (nullable = true)\n",
            " |    |    |-- Carrier: long (nullable = true)\n",
            " |    |    |-- Late Aircraft: long (nullable = true)\n",
            " |    |    |-- National Aviation System: long (nullable = true)\n",
            " |    |    |-- Security: long (nullable = true)\n",
            " |    |    |-- Weather: long (nullable = true)\n",
            " |    |-- Carriers: struct (nullable = true)\n",
            " |    |    |-- Names: string (nullable = true)\n",
            " |    |    |-- Total: long (nullable = true)\n",
            " |    |-- Flights: struct (nullable = true)\n",
            " |    |    |-- Cancelled: long (nullable = true)\n",
            " |    |    |-- Delayed: long (nullable = true)\n",
            " |    |    |-- Diverted: long (nullable = true)\n",
            " |    |    |-- On Time: long (nullable = true)\n",
            " |    |    |-- Total: long (nullable = true)\n",
            " |    |-- Minutes Delayed: struct (nullable = true)\n",
            " |    |    |-- Carrier: long (nullable = true)\n",
            " |    |    |-- Late Aircraft: long (nullable = true)\n",
            " |    |    |-- National Aviation System: long (nullable = true)\n",
            " |    |    |-- Security: long (nullable = true)\n",
            " |    |    |-- Total: long (nullable = true)\n",
            " |    |    |-- Weather: long (nullable = true)\n",
            " |-- Time: struct (nullable = true)\n",
            " |    |-- Label: string (nullable = true)\n",
            " |    |-- Month: long (nullable = true)\n",
            " |    |-- Month Name: string (nullable = true)\n",
            " |    |-- Year: long (nullable = true)\n",
            "\n"
          ]
        }
      ]
    },
    {
      "cell_type": "code",
      "source": [
        "df_flights.show(2)"
      ],
      "metadata": {
        "colab": {
          "base_uri": "https://localhost:8080/"
        },
        "id": "1r59z7VoT5TX",
        "outputId": "5d83ae9a-bd19-47d5-e96f-804f3684e46e"
      },
      "execution_count": 119,
      "outputs": [
        {
          "output_type": "stream",
          "name": "stdout",
          "text": [
            "+--------------------+--------------------+--------------------+\n",
            "|             Airport|          Statistics|                Time|\n",
            "+--------------------+--------------------+--------------------+\n",
            "|[ATL, Atlanta, GA...|[[1009, 1275, 321...|[2003/06, 6, June...|\n",
            "|[BOS, Boston, MA:...|[[374, 495, 685, ...|[2003/06, 6, June...|\n",
            "+--------------------+--------------------+--------------------+\n",
            "only showing top 2 rows\n",
            "\n"
          ]
        }
      ]
    },
    {
      "cell_type": "code",
      "source": [
        "# O Dataframe foi criado no esquema strtuct. Vamos  usar a função abaixo para retornar as colunas \"niveladas\"\n",
        "def flatten_struct(schema, prefix=\"\"):\n",
        "    result = []\n",
        "    for elem in schema:\n",
        "        if isinstance(elem.dataType, StructType):\n",
        "            result += flatten_struct(elem.dataType, prefix + elem.name + \".\")\n",
        "        else:\n",
        "            result.append(col(prefix + elem.name).alias(prefix + elem.name))\n",
        "    return result\n"
      ],
      "metadata": {
        "id": "uKHsxHabT-WD"
      },
      "execution_count": 120,
      "outputs": []
    },
    {
      "cell_type": "code",
      "source": [
        "# Aplicando função\n",
        "df_flights_flattened = df_flights.select(flatten_struct(df_flights.schema))"
      ],
      "metadata": {
        "id": "FFymmmvAloMl"
      },
      "execution_count": 121,
      "outputs": []
    },
    {
      "cell_type": "code",
      "source": [
        "df_flights_flattened.show(1)"
      ],
      "metadata": {
        "colab": {
          "base_uri": "https://localhost:8080/"
        },
        "id": "7kvBfFK1lszh",
        "outputId": "a67c2d30-1b06-4021-8153-4316c027198b"
      },
      "execution_count": 122,
      "outputs": [
        {
          "output_type": "stream",
          "name": "stdout",
          "text": [
            "+------------+--------------------+------------------------------+------------------------------------+-----------------------------------------------+-------------------------------+------------------------------+-------------------------+-------------------------+----------------------------+--------------------------+---------------------------+--------------------------+------------------------+----------------------------------+----------------------------------------+---------------------------------------------------+-----------------------------------+--------------------------------+----------------------------------+----------+----------+---------------+---------+\n",
            "|Airport.Code|        Airport.Name|Statistics.# of Delays.Carrier|Statistics.# of Delays.Late Aircraft|Statistics.# of Delays.National Aviation System|Statistics.# of Delays.Security|Statistics.# of Delays.Weather|Statistics.Carriers.Names|Statistics.Carriers.Total|Statistics.Flights.Cancelled|Statistics.Flights.Delayed|Statistics.Flights.Diverted|Statistics.Flights.On Time|Statistics.Flights.Total|Statistics.Minutes Delayed.Carrier|Statistics.Minutes Delayed.Late Aircraft|Statistics.Minutes Delayed.National Aviation System|Statistics.Minutes Delayed.Security|Statistics.Minutes Delayed.Total|Statistics.Minutes Delayed.Weather|Time.Label|Time.Month|Time.Month Name|Time.Year|\n",
            "+------------+--------------------+------------------------------+------------------------------------+-----------------------------------------------+-------------------------------+------------------------------+-------------------------+-------------------------+----------------------------+--------------------------+---------------------------+--------------------------+------------------------+----------------------------------+----------------------------------------+---------------------------------------------------+-----------------------------------+--------------------------------+----------------------------------+----------+----------+---------------+---------+\n",
            "|         ATL|Atlanta, GA: Hart...|                          1009|                                1275|                                           3217|                             17|                           328|     American Airlines...|                       11|                         216|                      5843|                         27|                     23974|                   30060|                             61606|                                   68335|                                             118831|                                518|                          268764|                             19474|   2003/06|         6|           June|     2003|\n",
            "+------------+--------------------+------------------------------+------------------------------------+-----------------------------------------------+-------------------------------+------------------------------+-------------------------+-------------------------+----------------------------+--------------------------+---------------------------+--------------------------+------------------------+----------------------------------+----------------------------------------+---------------------------------------------------+-----------------------------------+--------------------------------+----------------------------------+----------+----------+---------------+---------+\n",
            "only showing top 1 row\n",
            "\n"
          ]
        }
      ]
    },
    {
      "cell_type": "code",
      "source": [
        "df_flights_flattened.printSchema()"
      ],
      "metadata": {
        "colab": {
          "base_uri": "https://localhost:8080/"
        },
        "id": "-q6GDKmPlxJC",
        "outputId": "36a959e0-d920-4744-b3f6-7a05f8f78e52"
      },
      "execution_count": 123,
      "outputs": [
        {
          "output_type": "stream",
          "name": "stdout",
          "text": [
            "root\n",
            " |-- Airport.Code: string (nullable = true)\n",
            " |-- Airport.Name: string (nullable = true)\n",
            " |-- Statistics.# of Delays.Carrier: long (nullable = true)\n",
            " |-- Statistics.# of Delays.Late Aircraft: long (nullable = true)\n",
            " |-- Statistics.# of Delays.National Aviation System: long (nullable = true)\n",
            " |-- Statistics.# of Delays.Security: long (nullable = true)\n",
            " |-- Statistics.# of Delays.Weather: long (nullable = true)\n",
            " |-- Statistics.Carriers.Names: string (nullable = true)\n",
            " |-- Statistics.Carriers.Total: long (nullable = true)\n",
            " |-- Statistics.Flights.Cancelled: long (nullable = true)\n",
            " |-- Statistics.Flights.Delayed: long (nullable = true)\n",
            " |-- Statistics.Flights.Diverted: long (nullable = true)\n",
            " |-- Statistics.Flights.On Time: long (nullable = true)\n",
            " |-- Statistics.Flights.Total: long (nullable = true)\n",
            " |-- Statistics.Minutes Delayed.Carrier: long (nullable = true)\n",
            " |-- Statistics.Minutes Delayed.Late Aircraft: long (nullable = true)\n",
            " |-- Statistics.Minutes Delayed.National Aviation System: long (nullable = true)\n",
            " |-- Statistics.Minutes Delayed.Security: long (nullable = true)\n",
            " |-- Statistics.Minutes Delayed.Total: long (nullable = true)\n",
            " |-- Statistics.Minutes Delayed.Weather: long (nullable = true)\n",
            " |-- Time.Label: string (nullable = true)\n",
            " |-- Time.Month: long (nullable = true)\n",
            " |-- Time.Month Name: string (nullable = true)\n",
            " |-- Time.Year: long (nullable = true)\n",
            "\n"
          ]
        }
      ]
    },
    {
      "cell_type": "code",
      "source": [
        "# Criando \"TempView\" para manipulação utilizando Spark SQL\n",
        "df_flights_flattened.createOrReplaceTempView(\"Flights\")"
      ],
      "metadata": {
        "id": "aNCP0zEL0IlK"
      },
      "execution_count": 124,
      "outputs": []
    },
    {
      "cell_type": "code",
      "source": [
        "data_flights = sc.sql('''\n",
        "  SELECT\n",
        "    `Airport.Code`,\n",
        "    `Airport.Name`,\n",
        "    `Statistics.# of Delays.Carrier`,\n",
        "    `Statistics.# of Delays.Late Aircraft`,\n",
        "    `Statistics.# of Delays.National Aviation System`,\n",
        "    `Statistics.# of Delays.Security`,\n",
        "    `Statistics.# of Delays.Weather`, \n",
        "    `Statistics.Carriers.Names`, \n",
        "    `Statistics.Carriers.Total`, \n",
        "    `Statistics.Flights.Cancelled`,\n",
        "    `Statistics.Flights.Delayed`, \n",
        "    `Statistics.Flights.Diverted`, \n",
        "    `Statistics.Flights.On Time`, \n",
        "    `Statistics.Flights.Total`,\n",
        "    `Statistics.Minutes Delayed.Carrier`, \n",
        "    `Statistics.Minutes Delayed.Late Aircraft`, \n",
        "    `Statistics.Minutes Delayed.National Aviation System`, \n",
        "    `Statistics.Minutes Delayed.Security`, \n",
        "    `Statistics.Minutes Delayed.Total`, \n",
        "    `Statistics.Minutes Delayed.Weather`,\n",
        "    `Time.Label`, \n",
        "    `Time.Month`, \n",
        "    `Time.Month Name`, \n",
        "    `Time.Year`\n",
        "FROM\n",
        "  Flights\n",
        "LIMIT 10\n",
        "''')\n",
        "\n",
        "data_flights.show()"
      ],
      "metadata": {
        "colab": {
          "base_uri": "https://localhost:8080/"
        },
        "id": "zLwkkfJ90Qog",
        "outputId": "d0446913-62a1-4b3e-c33c-c4e8a12b7775"
      },
      "execution_count": 125,
      "outputs": [
        {
          "output_type": "stream",
          "name": "stdout",
          "text": [
            "+------------+--------------------+------------------------------+------------------------------------+-----------------------------------------------+-------------------------------+------------------------------+-------------------------+-------------------------+----------------------------+--------------------------+---------------------------+--------------------------+------------------------+----------------------------------+----------------------------------------+---------------------------------------------------+-----------------------------------+--------------------------------+----------------------------------+----------+----------+---------------+---------+\n",
            "|Airport.Code|        Airport.Name|Statistics.# of Delays.Carrier|Statistics.# of Delays.Late Aircraft|Statistics.# of Delays.National Aviation System|Statistics.# of Delays.Security|Statistics.# of Delays.Weather|Statistics.Carriers.Names|Statistics.Carriers.Total|Statistics.Flights.Cancelled|Statistics.Flights.Delayed|Statistics.Flights.Diverted|Statistics.Flights.On Time|Statistics.Flights.Total|Statistics.Minutes Delayed.Carrier|Statistics.Minutes Delayed.Late Aircraft|Statistics.Minutes Delayed.National Aviation System|Statistics.Minutes Delayed.Security|Statistics.Minutes Delayed.Total|Statistics.Minutes Delayed.Weather|Time.Label|Time.Month|Time.Month Name|Time.Year|\n",
            "+------------+--------------------+------------------------------+------------------------------------+-----------------------------------------------+-------------------------------+------------------------------+-------------------------+-------------------------+----------------------------+--------------------------+---------------------------+--------------------------+------------------------+----------------------------------+----------------------------------------+---------------------------------------------------+-----------------------------------+--------------------------------+----------------------------------+----------+----------+---------------+---------+\n",
            "|         ATL|Atlanta, GA: Hart...|                          1009|                                1275|                                           3217|                             17|                           328|     American Airlines...|                       11|                         216|                      5843|                         27|                     23974|                   30060|                             61606|                                   68335|                                             118831|                                518|                          268764|                             19474|   2003/06|         6|           June|     2003|\n",
            "|         BOS|Boston, MA: Logan...|                           374|                                 495|                                            685|                              3|                            66|     American Airlines...|                       14|                         138|                      1623|                          3|                      7875|                    9639|                             20319|                                   28189|                                              24400|                                 99|                           77167|                              4160|   2003/06|         6|           June|     2003|\n",
            "|         BWI|Baltimore, MD: Ba...|                           296|                                 477|                                            389|                              8|                            78|     American Airlines...|                       11|                          29|                      1245|                         15|                      6998|                    8287|                             13635|                                   26810|                                              17556|                                278|                           64480|                              6201|   2003/06|         6|           June|     2003|\n",
            "|         CLT|Charlotte, NC: Ch...|                           300|                                 472|                                            735|                              2|                            54|     American Airlines...|                       11|                          73|                      1562|                         14|                      7021|                    8670|                             14763|                                   23379|                                              23804|                                127|                           65865|                              3792|   2003/06|         6|           June|     2003|\n",
            "|         DCA|Washington, DC: R...|                           283|                                 268|                                            487|                              4|                            58|     American Airlines...|                       13|                          74|                      1100|                         18|                      5321|                    6513|                             13775|                                   13712|                                              20999|                                120|                           52747|                              4141|   2003/06|         6|           June|     2003|\n",
            "|         DEN|Denver, CO: Denve...|                           516|                                 323|                                            664|                             11|                            98|     American Airlines...|                       13|                          34|                      1611|                         22|                     10024|                   11691|                             26634|                                   18969|                                              23538|                                706|                           75428|                              5581|   2003/06|         6|           June|     2003|\n",
            "|         DFW|Dallas/Fort Worth...|                           986|                                1390|                                           2147|                             19|                           258|     American Airlines...|                       13|                         394|                      4798|                        133|                     22303|                   27628|                             70918|                                   80714|                                              90574|                                683|                          263521|                             20632|   2003/06|         6|           June|     2003|\n",
            "|         DTW|Detroit, MI: Detr...|                           376|                                 371|                                            570|                              6|                            71|     American Airlines...|                       11|                         123|                      1395|                          9|                     10227|                   11754|                             21802|                                   18715|                                              16482|                                139|                           60667|                              3529|   2003/06|         6|           June|     2003|\n",
            "|         EWR|Newark, NJ: Newar...|                           322|                                 519|                                           1948|                             10|                           121|     American Airlines...|                       13|                         102|                      2921|                         42|                      9441|                   12506|                             20190|                                   30905|                                              91048|                                490|                          150513|                              7880|   2003/06|         6|           June|     2003|\n",
            "|         FLL|Fort Lauderdale, ...|                           247|                                 256|                                            427|                              5|                            34|     American Airlines...|                       11|                          13|                       967|                         10|                      3672|                    4662|                             12547|                                   14600|                                              14935|                                141|                           44303|                              2080|   2003/06|         6|           June|     2003|\n",
            "+------------+--------------------+------------------------------+------------------------------------+-----------------------------------------------+-------------------------------+------------------------------+-------------------------+-------------------------+----------------------------+--------------------------+---------------------------+--------------------------+------------------------+----------------------------------+----------------------------------------+---------------------------------------------------+-----------------------------------+--------------------------------+----------------------------------+----------+----------+---------------+---------+\n",
            "\n"
          ]
        }
      ]
    },
    {
      "cell_type": "code",
      "source": [
        "# VERIFICANDO PADRÃO ANO_MES\n",
        "\n",
        "sc.sql('''\n",
        "SELECT DISTINCT \n",
        "  char_length( `Time.Label`) \n",
        "FROM\n",
        "  FLIGHTS\n",
        "ORDER BY\n",
        "   1\n",
        "''').show()"
      ],
      "metadata": {
        "colab": {
          "base_uri": "https://localhost:8080/"
        },
        "id": "q4-m2m6L1N7q",
        "outputId": "2395a10e-1265-4f88-da64-cad71c64f073"
      },
      "execution_count": 126,
      "outputs": [
        {
          "output_type": "stream",
          "name": "stdout",
          "text": [
            "+------------------+\n",
            "|length(Time.Label)|\n",
            "+------------------+\n",
            "|                 7|\n",
            "+------------------+\n",
            "\n"
          ]
        }
      ]
    },
    {
      "cell_type": "code",
      "source": [
        "# VERIFICANDO POSSÍVEIS DUPLICIDADES DE REGISTROS X AEROPORTOS\n",
        "\n",
        "sc.sql('''\n",
        "SELECT \n",
        "  `Airport.Code`,\n",
        "  DATE_FORMAT((to_date((`Time.Label`),\"yyyy/MM\") ),'yyyy-MM') AS ANO_MES,\n",
        "  COUNT(`Airport.Code`) AS QTD\n",
        "FROM \n",
        "  Flights\n",
        "GROUP BY\n",
        " `Airport.Code`,\n",
        " DATE_FORMAT((to_date((`Time.Label`),\"yyyy/MM\") ),'yyyy-MM')\n",
        "HAVING\n",
        "  COUNT(`Airport.Code`) > 1\n",
        "''').show()\n"
      ],
      "metadata": {
        "colab": {
          "base_uri": "https://localhost:8080/"
        },
        "id": "xf8_lvtF497C",
        "outputId": "861357e4-0866-4ff6-ab0e-58dcb9266b6d"
      },
      "execution_count": 127,
      "outputs": [
        {
          "output_type": "stream",
          "name": "stdout",
          "text": [
            "+------------+-------+---+\n",
            "|Airport.Code|ANO_MES|QTD|\n",
            "+------------+-------+---+\n",
            "+------------+-------+---+\n",
            "\n"
          ]
        }
      ]
    },
    {
      "cell_type": "code",
      "source": [
        "# VERIFICANDO DATA MAIS RECENTE \n",
        "\n",
        "sc.sql('''\n",
        "SELECT \n",
        "  MAX(DATE_FORMAT((to_date((`Time.Label`),\"yyyy/MM\") ),'yyyy-MM')) AS ANO_MES\n",
        "FROM \n",
        "  Flights\n",
        "''').show()\n",
        "\n"
      ],
      "metadata": {
        "colab": {
          "base_uri": "https://localhost:8080/"
        },
        "id": "5ZAKdFnh5FTt",
        "outputId": "a539e56e-898b-4b37-90c9-7fbb69a2fae1"
      },
      "execution_count": 128,
      "outputs": [
        {
          "output_type": "stream",
          "name": "stdout",
          "text": [
            "+-------+\n",
            "|ANO_MES|\n",
            "+-------+\n",
            "|2016-01|\n",
            "+-------+\n",
            "\n"
          ]
        }
      ]
    },
    {
      "cell_type": "code",
      "source": [
        "%time\n",
        "# Reestruturando a base para facilitar a manipulação\n",
        "# Seguindo a linha de utilizar uma tabela fato para armazenar os dados de atraso\n",
        "\n",
        "\n",
        "data_flights_delay_reasons = sc.sql('''\n",
        "\n",
        "   WITH DATA_FLIGHTS_UNPIVOT_OCURRENCES as (  SELECT\n",
        "                        `Airport.Code` AS Airport_Code,\n",
        "                        `Airport.Name` AS Airport_Name, \n",
        "                        `Time.Label` AS Time_Label,\n",
        "                         STACK(5,\n",
        "\n",
        "                              '`Statistics.# of Delays.Carrier`',`Statistics.# of Delays.Carrier`,\n",
        "                              '`Statistics.# of Delays.Late Aircraft`',`Statistics.# of Delays.Late Aircraft`,\n",
        "                              '`Statistics.# of Delays.National Aviation System`',`Statistics.# of Delays.National Aviation System`,\n",
        "                              '`Statistics.# of Delays.Security`',`Statistics.# of Delays.Security`,\n",
        "                              '`Statistics.# of Delays.Weather`',`Statistics.# of Delays.Weather`) \n",
        "                              \n",
        "                        AS  (Delayed_Reason, TOTAL_OCCURRENCES)\n",
        "\n",
        "                      FROM \n",
        "                        Flights\n",
        "                        ),\n",
        "\t    DATA_FLIGHTS_UNPIVOT_MINUTES as (  SELECT\n",
        "                        `Airport.Code` AS Airport_Code,\n",
        "                        `Airport.Name` AS Airport_Name, \n",
        "                        `Time.Label` AS Time_Label,\n",
        "                        STACK(5,\n",
        "                              '`Statistics.Minutes Delayed.Weather`',`Statistics.Minutes Delayed.Weather`,\n",
        "                              '`Statistics.Minutes Delayed.Security`',`Statistics.Minutes Delayed.Security`,\n",
        "                              '`Statistics.Minutes Delayed.National Aviation System`',`Statistics.Minutes Delayed.National Aviation System`,\n",
        "                              '`Statistics.Minutes Delayed.Late Aircraft`',`Statistics.Minutes Delayed.Late Aircraft`,\n",
        "                              '`Statistics.Minutes Delayed.Carrier`',`Statistics.Minutes Delayed.Carrier`) \n",
        "                              \n",
        "                        AS  (Delayed_Reason, TOTAL_MINUTES)\n",
        "\n",
        "                      FROM \n",
        "                        Flights\n",
        "                        )\t\t\t\t\t\n",
        "\t\t\t\t\t\t\n",
        "    SELECT\n",
        "      FO.Airport_Code,\n",
        "      FO.Airport_Name,\n",
        "      FO.Time_Label,\n",
        "      REPLACE((REPLACE(FO.Delayed_Reason,'`Statistics.# of Delays.','')),'`') AS Delayed_Reason,\n",
        "      FO.Total_Occurrences,\n",
        "      FM.Total_Minutes\n",
        "    FROM\n",
        "      DATA_FLIGHTS_UNPIVOT_OCURRENCES FO LEFT JOIN DATA_FLIGHTS_UNPIVOT_MINUTES FM\n",
        "\tON \n",
        "\t\t    FO.Airport_Code = FM.Airport_Code\n",
        "\t\tAND FO.Time_Label   = FM.Time_Label\n",
        "    AND REPLACE((REPLACE(FO.Delayed_Reason,'`Statistics.# of Delays.','')),'`') =  REPLACE((REPLACE(FM.Delayed_Reason,'`Statistics.Minutes Delayed.','')),'`')\n",
        "                        ''') \n",
        "\n",
        "\n",
        "data_flights_delay_reasons.show(5,truncate = False)\n",
        "\n",
        "data_flights_delay_reasons.createOrReplaceTempView(\"Flights_Delayed\")"
      ],
      "metadata": {
        "colab": {
          "base_uri": "https://localhost:8080/"
        },
        "id": "JsJdShdK5Fz7",
        "outputId": "edb83b2f-b508-4a28-ebf4-e4a2ef494fc7"
      },
      "execution_count": 129,
      "outputs": [
        {
          "output_type": "stream",
          "name": "stdout",
          "text": [
            "CPU times: user 4 µs, sys: 0 ns, total: 4 µs\n",
            "Wall time: 12.4 µs\n",
            "+------------+-----------------------------------------------------+----------+------------------------+-----------------+-------------+\n",
            "|Airport_Code|Airport_Name                                         |Time_Label|Delayed_Reason          |Total_Occurrences|Total_Minutes|\n",
            "+------------+-----------------------------------------------------+----------+------------------------+-----------------+-------------+\n",
            "|ATL         |Atlanta, GA: Hartsfield-Jackson Atlanta International|2003/06   |Carrier                 |1009             |61606        |\n",
            "|ATL         |Atlanta, GA: Hartsfield-Jackson Atlanta International|2003/06   |Late Aircraft           |1275             |68335        |\n",
            "|ATL         |Atlanta, GA: Hartsfield-Jackson Atlanta International|2003/06   |National Aviation System|3217             |118831       |\n",
            "|ATL         |Atlanta, GA: Hartsfield-Jackson Atlanta International|2003/06   |Security                |17               |518          |\n",
            "|ATL         |Atlanta, GA: Hartsfield-Jackson Atlanta International|2003/06   |Weather                 |328              |19474        |\n",
            "+------------+-----------------------------------------------------+----------+------------------------+-----------------+-------------+\n",
            "only showing top 5 rows\n",
            "\n"
          ]
        }
      ]
    },
    {
      "cell_type": "markdown",
      "source": [
        "<div id='cinco' />\n",
        "\n",
        "# Questões"
      ],
      "metadata": {
        "id": "G9LhghjZYHz2"
      }
    },
    {
      "cell_type": "code",
      "source": [
        "%time\n",
        "# Qual a curva da quantidade de atrasos causados pela segurança dos aeroportos?\n",
        "# Considerando O ano completo mais recente(2015) para análise:\n",
        "\n",
        "security_delay = sc.sql('''\n",
        "\n",
        "SELECT \n",
        "  Time_Label AS REF,\n",
        "  SUM(Total_Occurrences) AS OCORRENCIAS_ATRASOS_SEGURANCA\n",
        "FROM\n",
        "  Flights_Delayed\n",
        "WHERE\n",
        "  Delayed_Reason = 'Security'                \n",
        "  AND left(Time_Label,4) = '2015'\n",
        "GROUP BY \n",
        "  Time_Label\n",
        "ORDER BY\n",
        "  1 ASC\n",
        " ''') \n",
        "\n",
        "security_delay_chart = (\n",
        "    security_delay.select(\n",
        "        \"REF\",\n",
        "        \"OCORRENCIAS_ATRASOS_SEGURANCA\"\n",
        "                            )\n",
        "    .orderBy(\"REF\")\n",
        "    .toPandas()\n",
        ")\n",
        "\n",
        "security_delay_chart.plot.line(x=\"REF\", y={ \"OCORRENCIAS_ATRASOS_SEGURANCA\"})\n"
      ],
      "metadata": {
        "colab": {
          "base_uri": "https://localhost:8080/",
          "height": 331
        },
        "id": "zGiQowlvHPa7",
        "outputId": "0910c0f6-7ac4-4e87-e95a-03c4fa80afa3"
      },
      "execution_count": 130,
      "outputs": [
        {
          "output_type": "stream",
          "name": "stdout",
          "text": [
            "CPU times: user 4 µs, sys: 1e+03 ns, total: 5 µs\n",
            "Wall time: 8.58 µs\n"
          ]
        },
        {
          "output_type": "execute_result",
          "data": {
            "text/plain": [
              "<matplotlib.axes._subplots.AxesSubplot at 0x7f6b0e1464d0>"
            ]
          },
          "metadata": {},
          "execution_count": 130
        },
        {
          "output_type": "display_data",
          "data": {
            "text/plain": [
              "<Figure size 432x288 with 1 Axes>"
            ],
            "image/png": "[encoded data removed]"
          },
          "metadata": {
            "needs_background": "light"
          }
        }
      ]
    },
    {
      "cell_type": "code",
      "source": [
        "# Qual aeroporto teve a pior média de tempo de atrasos no último ano (do dataset)?\n",
        "# Nessa pergunta, vou partir do ultimo(maior) ano disponível no dataset (e não do último ano disponível por aeroporto), como parametro\n",
        "# Nesse cenário o último ano disponível é 2016, porém contempla apenas 1 mês. Para melhor verificação, seria necessário entender com a área de negócio, o critério a ser considerado. Ex.: \n",
        "# Últimos 12 Meses, último ano fechado disponível?..\n",
        "\n",
        "\n",
        "max_year = sc.sql('''\n",
        "                    SELECT \n",
        "                      MAX(`Time.Label`)\n",
        "                    FROM\n",
        "                      Flights\n",
        "                 ''' ).first()[0]"
      ],
      "metadata": {
        "id": "cD8EvK_1V2e-"
      },
      "execution_count": 131,
      "outputs": []
    },
    {
      "cell_type": "code",
      "source": [
        "# Qual aeroporto teve a pior média de tempo de atrasos no último ano (do dataset)?\n",
        "# Melhoria: para processo dinâmico, definir parâmetro para ano. No caso da tabela ser consumida por uma ferramenta de visualização, o fitlro poderia ser aplicado na camada final\n",
        "# exemplo.: max_year com format(query como string)\n",
        "\n",
        "average_delay = sc.sql('''\n",
        "        SELECT \n",
        "          Airport_Code AS COD_AEROPORTO,\n",
        "          Airport_Name NOME_AEROPORTO,\n",
        "          AVG(Total_Minutes) AS MEDIA_TEMPO_ATRASO\n",
        "        FROM\n",
        "          Flights_Delayed\n",
        "        WHERE\n",
        "        left(Time_Label,4) = '2015'\n",
        "        GROUP BY \n",
        "          Airport_Code,\n",
        "          Airport_Name\n",
        "        ORDER BY\n",
        "          3 DESC\n",
        "        LIMIT 1\n",
        " ''').show()"
      ],
      "metadata": {
        "id": "lP-P6Majs5NW",
        "colab": {
          "base_uri": "https://localhost:8080/"
        },
        "outputId": "2b6d8ea9-81c6-4f7d-b053-bbc32a7a84bd"
      },
      "execution_count": 132,
      "outputs": [
        {
          "output_type": "stream",
          "name": "stdout",
          "text": [
            "+-------------+--------------------+------------------+\n",
            "|COD_AEROPORTO|      NOME_AEROPORTO|MEDIA_TEMPO_ATRASO|\n",
            "+-------------+--------------------+------------------+\n",
            "|          ORD|Chicago, IL: Chic...| 71338.78333333334|\n",
            "+-------------+--------------------+------------------+\n",
            "\n"
          ]
        }
      ]
    },
    {
      "cell_type": "code",
      "source": [
        "# Dos motivos que causam atrasos, qual é o que mais causou tempo de atraso?\n",
        "# Considerando todo o período disponível\n",
        "\n",
        "_delay = sc.sql('''\n",
        "        SELECT \n",
        "          Delayed_Reason AS MOTIVO_ATRASO,\n",
        "          SUM(Total_Minutes) AS TEMPO_ATRASO_TOTAL\n",
        "        FROM\n",
        "          Flights_Delayed\n",
        "        GROUP BY \n",
        "          Delayed_Reason\n",
        "        ORDER BY\n",
        "         2 DESC\n",
        "        LIMIT 1\n",
        " ''').show()"
      ],
      "metadata": {
        "colab": {
          "base_uri": "https://localhost:8080/"
        },
        "id": "BSqJTh0dVIOD",
        "outputId": "ff7ab970-2a80-493c-c44c-dd24776dcd1b"
      },
      "execution_count": 133,
      "outputs": [
        {
          "output_type": "stream",
          "name": "stdout",
          "text": [
            "+-------------+------------------+\n",
            "|MOTIVO_ATRASO|TEMPO_ATRASO_TOTAL|\n",
            "+-------------+------------------+\n",
            "|Late Aircraft|         217800492|\n",
            "+-------------+------------------+\n",
            "\n"
          ]
        }
      ]
    },
    {
      "cell_type": "code",
      "source": [
        "# Comparando ano contra ano, 2015 foi melhor ou pior que 2014 em termos de número de atrasos?\n",
        "# Consulta simples para obter a resposta, agrupando pelos anos das ocorrências\n",
        "\n",
        "average_delay = sc.sql('''\n",
        "        SELECT \n",
        "          LEFT(Time_Label,4) AS ANO,\n",
        "          SUM(Total_Occurrences) AS OCORRENCIAS_TOTAIS\n",
        "        FROM\n",
        "          Flights_Delayed\n",
        "        WHERE\n",
        "        left(Time_Label,4) IN ('2014','2015')\n",
        "        GROUP BY\n",
        "          LEFT(Time_Label,4)\n",
        " ''').show()"
      ],
      "metadata": {
        "colab": {
          "base_uri": "https://localhost:8080/"
        },
        "id": "cGUxOS9KWhvT",
        "outputId": "d582ad2f-a806-453b-ac96-a8ec1d88230f"
      },
      "execution_count": 134,
      "outputs": [
        {
          "output_type": "stream",
          "name": "stdout",
          "text": [
            "+----+------------------+\n",
            "| ANO|OCORRENCIAS_TOTAIS|\n",
            "+----+------------------+\n",
            "|2014|            796300|\n",
            "|2015|            707828|\n",
            "+----+------------------+\n",
            "\n"
          ]
        }
      ]
    }
  ]
}